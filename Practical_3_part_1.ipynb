{
  "nbformat": 4,
  "nbformat_minor": 0,
  "metadata": {
    "colab": {
      "provenance": []
    },
    "kernelspec": {
      "name": "python3",
      "display_name": "Python 3"
    },
    "language_info": {
      "name": "python"
    }
  },
  "cells": [
    {
      "cell_type": "markdown",
      "source": [
        "Практична робота №3 з предмету: \"Машине Навчання\".\n",
        "Студента: Коленика Максима Максимовича.\n",
        "Варіант 9"
      ],
      "metadata": {
        "id": "BKJTYdjB7E_i"
      }
    },
    {
      "cell_type": "markdown",
      "source": [
        "Завдання 1"
      ],
      "metadata": {
        "id": "vwuQFvNO7WRm"
      }
    },
    {
      "cell_type": "markdown",
      "source": [
        "1. Прочитайте CSV файл (використовуйте метод read_csv):"
      ],
      "metadata": {
        "id": "B8bM4J1i7vei"
      }
    },
    {
      "cell_type": "code",
      "source": [
        "import pandas as pd\n",
        "import numpy as np\n",
        "import matplotlib.pyplot as plt\n",
        "from google.colab import files\n",
        "uploaded = files.upload()"
      ],
      "metadata": {
        "colab": {
          "base_uri": "https://localhost:8080/",
          "height": 73
        },
        "id": "fjZs0ewo7b1B",
        "outputId": "489be7fb-420c-4a3d-d0b8-1b12ebc20b19"
      },
      "execution_count": null,
      "outputs": [
        {
          "output_type": "display_data",
          "data": {
            "text/plain": [
              "<IPython.core.display.HTML object>"
            ],
            "text/html": [
              "\n",
              "     <input type=\"file\" id=\"files-154a376e-821f-434a-9ddf-b3e14df6ac8f\" name=\"files[]\" multiple disabled\n",
              "        style=\"border:none\" />\n",
              "     <output id=\"result-154a376e-821f-434a-9ddf-b3e14df6ac8f\">\n",
              "      Upload widget is only available when the cell has been executed in the\n",
              "      current browser session. Please rerun this cell to enable.\n",
              "      </output>\n",
              "      <script>// Copyright 2017 Google LLC\n",
              "//\n",
              "// Licensed under the Apache License, Version 2.0 (the \"License\");\n",
              "// you may not use this file except in compliance with the License.\n",
              "// You may obtain a copy of the License at\n",
              "//\n",
              "//      http://www.apache.org/licenses/LICENSE-2.0\n",
              "//\n",
              "// Unless required by applicable law or agreed to in writing, software\n",
              "// distributed under the License is distributed on an \"AS IS\" BASIS,\n",
              "// WITHOUT WARRANTIES OR CONDITIONS OF ANY KIND, either express or implied.\n",
              "// See the License for the specific language governing permissions and\n",
              "// limitations under the License.\n",
              "\n",
              "/**\n",
              " * @fileoverview Helpers for google.colab Python module.\n",
              " */\n",
              "(function(scope) {\n",
              "function span(text, styleAttributes = {}) {\n",
              "  const element = document.createElement('span');\n",
              "  element.textContent = text;\n",
              "  for (const key of Object.keys(styleAttributes)) {\n",
              "    element.style[key] = styleAttributes[key];\n",
              "  }\n",
              "  return element;\n",
              "}\n",
              "\n",
              "// Max number of bytes which will be uploaded at a time.\n",
              "const MAX_PAYLOAD_SIZE = 100 * 1024;\n",
              "\n",
              "function _uploadFiles(inputId, outputId) {\n",
              "  const steps = uploadFilesStep(inputId, outputId);\n",
              "  const outputElement = document.getElementById(outputId);\n",
              "  // Cache steps on the outputElement to make it available for the next call\n",
              "  // to uploadFilesContinue from Python.\n",
              "  outputElement.steps = steps;\n",
              "\n",
              "  return _uploadFilesContinue(outputId);\n",
              "}\n",
              "\n",
              "// This is roughly an async generator (not supported in the browser yet),\n",
              "// where there are multiple asynchronous steps and the Python side is going\n",
              "// to poll for completion of each step.\n",
              "// This uses a Promise to block the python side on completion of each step,\n",
              "// then passes the result of the previous step as the input to the next step.\n",
              "function _uploadFilesContinue(outputId) {\n",
              "  const outputElement = document.getElementById(outputId);\n",
              "  const steps = outputElement.steps;\n",
              "\n",
              "  const next = steps.next(outputElement.lastPromiseValue);\n",
              "  return Promise.resolve(next.value.promise).then((value) => {\n",
              "    // Cache the last promise value to make it available to the next\n",
              "    // step of the generator.\n",
              "    outputElement.lastPromiseValue = value;\n",
              "    return next.value.response;\n",
              "  });\n",
              "}\n",
              "\n",
              "/**\n",
              " * Generator function which is called between each async step of the upload\n",
              " * process.\n",
              " * @param {string} inputId Element ID of the input file picker element.\n",
              " * @param {string} outputId Element ID of the output display.\n",
              " * @return {!Iterable<!Object>} Iterable of next steps.\n",
              " */\n",
              "function* uploadFilesStep(inputId, outputId) {\n",
              "  const inputElement = document.getElementById(inputId);\n",
              "  inputElement.disabled = false;\n",
              "\n",
              "  const outputElement = document.getElementById(outputId);\n",
              "  outputElement.innerHTML = '';\n",
              "\n",
              "  const pickedPromise = new Promise((resolve) => {\n",
              "    inputElement.addEventListener('change', (e) => {\n",
              "      resolve(e.target.files);\n",
              "    });\n",
              "  });\n",
              "\n",
              "  const cancel = document.createElement('button');\n",
              "  inputElement.parentElement.appendChild(cancel);\n",
              "  cancel.textContent = 'Cancel upload';\n",
              "  const cancelPromise = new Promise((resolve) => {\n",
              "    cancel.onclick = () => {\n",
              "      resolve(null);\n",
              "    };\n",
              "  });\n",
              "\n",
              "  // Wait for the user to pick the files.\n",
              "  const files = yield {\n",
              "    promise: Promise.race([pickedPromise, cancelPromise]),\n",
              "    response: {\n",
              "      action: 'starting',\n",
              "    }\n",
              "  };\n",
              "\n",
              "  cancel.remove();\n",
              "\n",
              "  // Disable the input element since further picks are not allowed.\n",
              "  inputElement.disabled = true;\n",
              "\n",
              "  if (!files) {\n",
              "    return {\n",
              "      response: {\n",
              "        action: 'complete',\n",
              "      }\n",
              "    };\n",
              "  }\n",
              "\n",
              "  for (const file of files) {\n",
              "    const li = document.createElement('li');\n",
              "    li.append(span(file.name, {fontWeight: 'bold'}));\n",
              "    li.append(span(\n",
              "        `(${file.type || 'n/a'}) - ${file.size} bytes, ` +\n",
              "        `last modified: ${\n",
              "            file.lastModifiedDate ? file.lastModifiedDate.toLocaleDateString() :\n",
              "                                    'n/a'} - `));\n",
              "    const percent = span('0% done');\n",
              "    li.appendChild(percent);\n",
              "\n",
              "    outputElement.appendChild(li);\n",
              "\n",
              "    const fileDataPromise = new Promise((resolve) => {\n",
              "      const reader = new FileReader();\n",
              "      reader.onload = (e) => {\n",
              "        resolve(e.target.result);\n",
              "      };\n",
              "      reader.readAsArrayBuffer(file);\n",
              "    });\n",
              "    // Wait for the data to be ready.\n",
              "    let fileData = yield {\n",
              "      promise: fileDataPromise,\n",
              "      response: {\n",
              "        action: 'continue',\n",
              "      }\n",
              "    };\n",
              "\n",
              "    // Use a chunked sending to avoid message size limits. See b/62115660.\n",
              "    let position = 0;\n",
              "    do {\n",
              "      const length = Math.min(fileData.byteLength - position, MAX_PAYLOAD_SIZE);\n",
              "      const chunk = new Uint8Array(fileData, position, length);\n",
              "      position += length;\n",
              "\n",
              "      const base64 = btoa(String.fromCharCode.apply(null, chunk));\n",
              "      yield {\n",
              "        response: {\n",
              "          action: 'append',\n",
              "          file: file.name,\n",
              "          data: base64,\n",
              "        },\n",
              "      };\n",
              "\n",
              "      let percentDone = fileData.byteLength === 0 ?\n",
              "          100 :\n",
              "          Math.round((position / fileData.byteLength) * 100);\n",
              "      percent.textContent = `${percentDone}% done`;\n",
              "\n",
              "    } while (position < fileData.byteLength);\n",
              "  }\n",
              "\n",
              "  // All done.\n",
              "  yield {\n",
              "    response: {\n",
              "      action: 'complete',\n",
              "    }\n",
              "  };\n",
              "}\n",
              "\n",
              "scope.google = scope.google || {};\n",
              "scope.google.colab = scope.google.colab || {};\n",
              "scope.google.colab._files = {\n",
              "  _uploadFiles,\n",
              "  _uploadFilesContinue,\n",
              "};\n",
              "})(self);\n",
              "</script> "
            ]
          },
          "metadata": {}
        },
        {
          "output_type": "stream",
          "name": "stdout",
          "text": [
            "Saving Global YouTube Statistics.csv to Global YouTube Statistics (4).csv\n"
          ]
        }
      ]
    },
    {
      "cell_type": "code",
      "execution_count": null,
      "metadata": {
        "id": "1ISi6dgu61o4"
      },
      "outputs": [],
      "source": [
        "data = pd.read_csv('Global YouTube Statistics.csv', encoding='cp1251')"
      ]
    },
    {
      "cell_type": "markdown",
      "source": [
        "2. Виведіть перші п'ять рядків (використовується метод head):"
      ],
      "metadata": {
        "id": "4PdiuE5n71FK"
      }
    },
    {
      "cell_type": "code",
      "source": [
        "print(data.head())"
      ],
      "metadata": {
        "colab": {
          "base_uri": "https://localhost:8080/"
        },
        "id": "og2tprbz71OV",
        "outputId": "b79ad3b3-76aa-4139-e886-0729cad4df62"
      },
      "execution_count": null,
      "outputs": [
        {
          "output_type": "stream",
          "name": "stdout",
          "text": [
            "   rank                    Youtuber  subscribers   video views  \\\n",
            "0     1                    T-Series    245000000  2.280000e+11   \n",
            "1     2              YouTube Movies    170000000  0.000000e+00   \n",
            "2     3                     MrBeast    166000000  2.836884e+10   \n",
            "3     4  Cocomelon - Nursery Rhymes    162000000  1.640000e+11   \n",
            "4     5                   SET India    159000000  1.480000e+11   \n",
            "\n",
            "           category                       Title  uploads        Country  \\\n",
            "0             Music                    T-Series    20082          India   \n",
            "1  Film & Animation               youtubemovies        1  United States   \n",
            "2     Entertainment                     MrBeast      741  United States   \n",
            "3         Education  Cocomelon - Nursery Rhymes      966  United States   \n",
            "4             Shows                   SET India   116536          India   \n",
            "\n",
            "  Abbreviation   channel_type  ...  subscribers_for_last_30_days  \\\n",
            "0           IN          Music  ...                     2000000.0   \n",
            "1           US          Games  ...                           NaN   \n",
            "2           US  Entertainment  ...                     8000000.0   \n",
            "3           US      Education  ...                     1000000.0   \n",
            "4           IN  Entertainment  ...                     1000000.0   \n",
            "\n",
            "   created_year  created_month  created_date  \\\n",
            "0        2006.0            Mar          13.0   \n",
            "1        2006.0            Mar           5.0   \n",
            "2        2012.0            Feb          20.0   \n",
            "3        2006.0            Sep           1.0   \n",
            "4        2006.0            Sep          20.0   \n",
            "\n",
            "   Gross tertiary education enrollment (%)    Population  Unemployment rate  \\\n",
            "0                                     28.1  1.366418e+09               5.36   \n",
            "1                                     88.2  3.282395e+08              14.70   \n",
            "2                                     88.2  3.282395e+08              14.70   \n",
            "3                                     88.2  3.282395e+08              14.70   \n",
            "4                                     28.1  1.366418e+09               5.36   \n",
            "\n",
            "   Urban_population   Latitude  Longitude  \n",
            "0       471031528.0  20.593684  78.962880  \n",
            "1       270663028.0  37.090240 -95.712891  \n",
            "2       270663028.0  37.090240 -95.712891  \n",
            "3       270663028.0  37.090240 -95.712891  \n",
            "4       471031528.0  20.593684  78.962880  \n",
            "\n",
            "[5 rows x 28 columns]\n"
          ]
        }
      ]
    },
    {
      "cell_type": "markdown",
      "source": [
        "3. Виведіть розміри датасету (використовуйте метод shape):"
      ],
      "metadata": {
        "id": "GMiDWto4A6cM"
      }
    },
    {
      "cell_type": "code",
      "source": [
        "shape = data.shape\n",
        "print(\"Розмір датасету:\", shape)"
      ],
      "metadata": {
        "colab": {
          "base_uri": "https://localhost:8080/"
        },
        "id": "Etrz1wxsA6of",
        "outputId": "5b55c3a9-5921-4d57-b075-3775e6461b49"
      },
      "execution_count": null,
      "outputs": [
        {
          "output_type": "stream",
          "name": "stdout",
          "text": [
            "Розмір датасету: (995, 28)\n"
          ]
        }
      ]
    },
    {
      "cell_type": "markdown",
      "source": [
        "4. Перевірте, чи у всіх рядків вистачає даних: виведіть кількість пропусків  у кожному зі стовпців (використовуйте методи isna та sum).\n",
        "Якщо є пропуски, замінить їх на NaN, потім тип даних на числовий."
      ],
      "metadata": {
        "id": "GoYRGi8rA-CS"
      }
    },
    {
      "cell_type": "code",
      "source": [
        "missing_values = data.isna().sum()\n",
        "print(\"Кількість пропусків у кожному стовпці:\")\n",
        "print(missing_values)\n",
        "\n",
        "data.fillna(np.nan, inplace=True)\n",
        "data = data.apply(pd.to_numeric, errors='ignore')\n",
        "\n",
        "print(\"\\nОновлений датасет:\")\n",
        "print(data.head())"
      ],
      "metadata": {
        "colab": {
          "base_uri": "https://localhost:8080/"
        },
        "id": "et_FTLtWA-bF",
        "outputId": "399f1458-4df7-496e-8a6f-cbd6521ee6c2"
      },
      "execution_count": null,
      "outputs": [
        {
          "output_type": "stream",
          "name": "stdout",
          "text": [
            "Кількість пропусків у кожному стовпці:\n",
            "rank                                         0\n",
            "Youtuber                                     0\n",
            "subscribers                                  0\n",
            "video views                                  0\n",
            "category                                    46\n",
            "Title                                        0\n",
            "uploads                                      0\n",
            "Country                                    122\n",
            "Abbreviation                               122\n",
            "channel_type                                30\n",
            "video_views_rank                             1\n",
            "country_rank                               116\n",
            "channel_type_rank                           33\n",
            "video_views_for_the_last_30_days            56\n",
            "lowest_monthly_earnings                      0\n",
            "highest_monthly_earnings                     0\n",
            "lowest_yearly_earnings                       0\n",
            "highest_yearly_earnings                      0\n",
            "subscribers_for_last_30_days               337\n",
            "created_year                                 5\n",
            "created_month                                5\n",
            "created_date                                 5\n",
            "Gross tertiary education enrollment (%)    123\n",
            "Population                                 123\n",
            "Unemployment rate                          123\n",
            "Urban_population                           123\n",
            "Latitude                                   123\n",
            "Longitude                                  123\n",
            "dtype: int64\n",
            "\n",
            "Оновлений датасет:\n",
            "   rank                    Youtuber  subscribers   video views  \\\n",
            "0     1                    T-Series    245000000  2.280000e+11   \n",
            "1     2              YouTube Movies    170000000  0.000000e+00   \n",
            "2     3                     MrBeast    166000000  2.836884e+10   \n",
            "3     4  Cocomelon - Nursery Rhymes    162000000  1.640000e+11   \n",
            "4     5                   SET India    159000000  1.480000e+11   \n",
            "\n",
            "           category                       Title  uploads        Country  \\\n",
            "0             Music                    T-Series    20082          India   \n",
            "1  Film & Animation               youtubemovies        1  United States   \n",
            "2     Entertainment                     MrBeast      741  United States   \n",
            "3         Education  Cocomelon - Nursery Rhymes      966  United States   \n",
            "4             Shows                   SET India   116536          India   \n",
            "\n",
            "  Abbreviation   channel_type  ...  subscribers_for_last_30_days  \\\n",
            "0           IN          Music  ...                     2000000.0   \n",
            "1           US          Games  ...                           NaN   \n",
            "2           US  Entertainment  ...                     8000000.0   \n",
            "3           US      Education  ...                     1000000.0   \n",
            "4           IN  Entertainment  ...                     1000000.0   \n",
            "\n",
            "   created_year  created_month  created_date  \\\n",
            "0        2006.0            Mar          13.0   \n",
            "1        2006.0            Mar           5.0   \n",
            "2        2012.0            Feb          20.0   \n",
            "3        2006.0            Sep           1.0   \n",
            "4        2006.0            Sep          20.0   \n",
            "\n",
            "   Gross tertiary education enrollment (%)    Population  Unemployment rate  \\\n",
            "0                                     28.1  1.366418e+09               5.36   \n",
            "1                                     88.2  3.282395e+08              14.70   \n",
            "2                                     88.2  3.282395e+08              14.70   \n",
            "3                                     88.2  3.282395e+08              14.70   \n",
            "4                                     28.1  1.366418e+09               5.36   \n",
            "\n",
            "   Urban_population   Latitude  Longitude  \n",
            "0       471031528.0  20.593684  78.962880  \n",
            "1       270663028.0  37.090240 -95.712891  \n",
            "2       270663028.0  37.090240 -95.712891  \n",
            "3       270663028.0  37.090240 -95.712891  \n",
            "4       471031528.0  20.593684  78.962880  \n",
            "\n",
            "[5 rows x 28 columns]\n"
          ]
        }
      ]
    },
    {
      "cell_type": "markdown",
      "source": [
        "5. Замініть комірки з пропущеними значенями на середні за стовпцем. І тип даних на float."
      ],
      "metadata": {
        "id": "orSF9JC4BNJt"
      }
    },
    {
      "cell_type": "code",
      "source": [
        "data = data.apply(pd.to_numeric, errors='coerce')\n",
        "\n",
        "data.fillna(data.mean(), inplace=True)\n",
        "data = data.astype(float)\n",
        "\n",
        "print(data.head())"
      ],
      "metadata": {
        "colab": {
          "base_uri": "https://localhost:8080/"
        },
        "id": "swdhu5MdBNUa",
        "outputId": "09d44236-e208-4419-a2ff-d95c51c15f8e"
      },
      "execution_count": null,
      "outputs": [
        {
          "output_type": "stream",
          "name": "stdout",
          "text": [
            "   rank  Youtuber  subscribers   video views  category  Title   uploads  \\\n",
            "0   1.0       NaN  245000000.0  2.280000e+11       NaN    NaN   20082.0   \n",
            "1   2.0       NaN  170000000.0  0.000000e+00       NaN    NaN       1.0   \n",
            "2   3.0       NaN  166000000.0  2.836884e+10       NaN    NaN     741.0   \n",
            "3   4.0       NaN  162000000.0  1.640000e+11       NaN    NaN     966.0   \n",
            "4   5.0       NaN  159000000.0  1.480000e+11       NaN    NaN  116536.0   \n",
            "\n",
            "   Country  Abbreviation  channel_type  ...  subscribers_for_last_30_days  \\\n",
            "0      NaN           NaN           NaN  ...                  2.000000e+06   \n",
            "1      NaN           NaN           NaN  ...                  3.490791e+05   \n",
            "2      NaN           NaN           NaN  ...                  8.000000e+06   \n",
            "3      NaN           NaN           NaN  ...                  1.000000e+06   \n",
            "4      NaN           NaN           NaN  ...                  1.000000e+06   \n",
            "\n",
            "   created_year  created_month  created_date  \\\n",
            "0        2006.0            NaN          13.0   \n",
            "1        2006.0            NaN           5.0   \n",
            "2        2012.0            NaN          20.0   \n",
            "3        2006.0            NaN           1.0   \n",
            "4        2006.0            NaN          20.0   \n",
            "\n",
            "   Gross tertiary education enrollment (%)    Population  Unemployment rate  \\\n",
            "0                                     28.1  1.366418e+09               5.36   \n",
            "1                                     88.2  3.282395e+08              14.70   \n",
            "2                                     88.2  3.282395e+08              14.70   \n",
            "3                                     88.2  3.282395e+08              14.70   \n",
            "4                                     28.1  1.366418e+09               5.36   \n",
            "\n",
            "   Urban_population   Latitude  Longitude  \n",
            "0       471031528.0  20.593684  78.962880  \n",
            "1       270663028.0  37.090240 -95.712891  \n",
            "2       270663028.0  37.090240 -95.712891  \n",
            "3       270663028.0  37.090240 -95.712891  \n",
            "4       471031528.0  20.593684  78.962880  \n",
            "\n",
            "[5 rows x 28 columns]\n"
          ]
        }
      ]
    },
    {
      "cell_type": "markdown",
      "source": [
        "6. Ще раз перевірте кількість пропусків."
      ],
      "metadata": {
        "id": "MPcWWpgaBwG0"
      }
    },
    {
      "cell_type": "code",
      "source": [
        "data = data.apply(pd.to_numeric, errors='coerce')\n",
        "\n",
        "missing_values = data.isna().sum()\n",
        "print(\"Кількість пропусків у кожному стовпці:\")\n",
        "print(missing_values)"
      ],
      "metadata": {
        "colab": {
          "base_uri": "https://localhost:8080/"
        },
        "id": "3PrsbmWxBwSI",
        "outputId": "9c847893-c946-4cce-e4b2-a3ae76c853ed"
      },
      "execution_count": null,
      "outputs": [
        {
          "output_type": "stream",
          "name": "stdout",
          "text": [
            "Кількість пропусків у кожному стовпці:\n",
            "rank                                         0\n",
            "Youtuber                                   995\n",
            "subscribers                                  0\n",
            "video views                                  0\n",
            "category                                   995\n",
            "Title                                      995\n",
            "uploads                                      0\n",
            "Country                                    995\n",
            "Abbreviation                               995\n",
            "channel_type                               995\n",
            "video_views_rank                             0\n",
            "country_rank                                 0\n",
            "channel_type_rank                            0\n",
            "video_views_for_the_last_30_days             0\n",
            "lowest_monthly_earnings                      0\n",
            "highest_monthly_earnings                     0\n",
            "lowest_yearly_earnings                       0\n",
            "highest_yearly_earnings                      0\n",
            "subscribers_for_last_30_days                 0\n",
            "created_year                                 0\n",
            "created_month                              995\n",
            "created_date                                 0\n",
            "Gross tertiary education enrollment (%)      0\n",
            "Population                                   0\n",
            "Unemployment rate                            0\n",
            "Urban_population                             0\n",
            "Latitude                                     0\n",
            "Longitude                                    0\n",
            "dtype: int64\n"
          ]
        }
      ]
    },
    {
      "cell_type": "markdown",
      "source": [
        "7. Перевірте, скільки унікальних країн представлено у колонці \"Country\""
      ],
      "metadata": {
        "id": "4DGoTImnB9gr"
      }
    },
    {
      "cell_type": "code",
      "source": [
        "unique_countries = data['Country'].nunique()\n",
        "print(\"Кількість унікальних країн:\", unique_countries)"
      ],
      "metadata": {
        "colab": {
          "base_uri": "https://localhost:8080/"
        },
        "id": "QrO_aoyDB9wa",
        "outputId": "ceeecd2d-d8b9-430f-c866-2497b0332d80"
      },
      "execution_count": null,
      "outputs": [
        {
          "output_type": "stream",
          "name": "stdout",
          "text": [
            "Кількість унікальних країн: 0\n"
          ]
        }
      ]
    },
    {
      "cell_type": "markdown",
      "source": [
        "8. Побудуйте діаграму розподілу переглядів (використовуйте kind='hist'):"
      ],
      "metadata": {
        "id": "8ye1BE_mCWlY"
      }
    },
    {
      "cell_type": "code",
      "source": [
        "views = data['video views']\n",
        "\n",
        "# Побудова гістограми\n",
        "plt.figure(figsize=(10, 6))\n",
        "plt.hist(views, bins=20, edgecolor='k')\n",
        "plt.title('Розподіл переглядів')\n",
        "plt.xlabel('Перегляди')\n",
        "plt.ylabel('Частота')\n",
        "plt.grid(True)\n",
        "plt.show()"
      ],
      "metadata": {
        "colab": {
          "base_uri": "https://localhost:8080/",
          "height": 564
        },
        "id": "H8gwBq94CWxb",
        "outputId": "82b953c8-34bb-42a5-b4cf-d5ca7b9aabf9"
      },
      "execution_count": null,
      "outputs": [
        {
          "output_type": "display_data",
          "data": {
            "text/plain": [
              "<Figure size 1000x600 with 1 Axes>"
            ],
            "image/png": "[encoded data removed]"
          },
          "metadata": {}
        }
      ]
    },
    {
      "cell_type": "markdown",
      "source": [
        "9. Визначте максимальну, мінімальну, середню кількість переглядів (використовуйте методи max, min, mean)"
      ],
      "metadata": {
        "id": "87YC7lSKC2Eo"
      }
    },
    {
      "cell_type": "code",
      "source": [
        "views = data['video views']\n",
        "\n",
        "max_views = views.max()\n",
        "min_views = views.min()\n",
        "mean_views = views.mean()\n",
        "\n",
        "print(\"Максимальна кількість переглядів:\", max_views)\n",
        "print(\"Мінімальна кількість переглядів:\", min_views)\n",
        "print(\"Середня кількість переглядів:\", mean_views)"
      ],
      "metadata": {
        "colab": {
          "base_uri": "https://localhost:8080/"
        },
        "id": "EgOVmElHC2YG",
        "outputId": "7ef225d1-ad5b-41a6-f706-5a5e5427a65d"
      },
      "execution_count": null,
      "outputs": [
        {
          "output_type": "stream",
          "name": "stdout",
          "text": [
            "Максимальна кількість переглядів: 228000000000.0\n",
            "Мінімальна кількість переглядів: 0.0\n",
            "Середня кількість переглядів: 11039537052.03819\n"
          ]
        }
      ]
    },
    {
      "cell_type": "markdown",
      "source": [
        "10.Знайдіть країну, де найбільше відео було завантажено на YouTube"
      ],
      "metadata": {
        "id": "a7WCkNtkDQya"
      }
    },
    {
      "cell_type": "code",
      "source": [
        "country_video_counts = df['Country'].value_counts()\n",
        "\n",
        "most_videos_country = country_video_counts.idxmax()\n",
        "\n",
        "print(f\"Країна з найбільшою кількістю відео на YouTube: {most_videos_country}\")"
      ],
      "metadata": {
        "colab": {
          "base_uri": "https://localhost:8080/"
        },
        "id": "giERXpX9DRBc",
        "outputId": "e1e49395-fe4c-4a91-bbd9-778e4657d3ad"
      },
      "execution_count": null,
      "outputs": [
        {
          "output_type": "stream",
          "name": "stdout",
          "text": [
            "Країна з найбільшою кількістю відео на YouTube: United States\n"
          ]
        }
      ]
    },
    {
      "cell_type": "markdown",
      "source": [
        "11. Знайдіть відео (виведіть його назву) з найбільшою та найменшою кількістю завантажень uploads."
      ],
      "metadata": {
        "id": "YI8Kb_3NEDYc"
      }
    },
    {
      "cell_type": "code",
      "source": [
        "data.dropna(subset=['uploads'], inplace=True)\n",
        "\n",
        "max_uploads_video = data[data['uploads'] == data['uploads'].max()]['Title'].values[0]\n",
        "\n",
        "min_uploads_video = data[data['uploads'] == data['uploads'].min()]['Title'].values[0]\n",
        "\n",
        "print(\"Відео з найбільшою кількістю завантажень:\", max_uploads_video)\n",
        "print(\"Відео з найменшою кількістю завантажень:\", min_uploads_video)"
      ],
      "metadata": {
        "colab": {
          "base_uri": "https://localhost:8080/"
        },
        "id": "RUwaL-JEEDic",
        "outputId": "801d06ed-67c8-4df4-b8d2-19342077f4f2"
      },
      "execution_count": null,
      "outputs": [
        {
          "output_type": "stream",
          "name": "stdout",
          "text": [
            "Відео з найбільшою кількістю завантажень: ABP NEWS\n",
            "Відео з найменшою кількістю завантажень: Music\n"
          ]
        }
      ]
    }
  ]
}