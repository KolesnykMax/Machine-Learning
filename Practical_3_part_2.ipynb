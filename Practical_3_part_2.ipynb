{
  "nbformat": 4,
  "nbformat_minor": 0,
  "metadata": {
    "colab": {
      "provenance": []
    },
    "kernelspec": {
      "name": "python3",
      "display_name": "Python 3"
    },
    "language_info": {
      "name": "python"
    }
  },
  "cells": [
    {
      "cell_type": "markdown",
      "source": [
        "Практична робота №3 з предмету: \"Машине Навчання\". Студента: Коленика Максима Максимовича. Варіант 9"
      ],
      "metadata": {
        "id": "ryOQnfcNInUg"
      }
    },
    {
      "cell_type": "markdown",
      "source": [
        "Завдання 2"
      ],
      "metadata": {
        "id": "6p3Sz_P9Iq4y"
      }
    },
    {
      "cell_type": "markdown",
      "source": [
        "1. Прочитайте csv файл (метод read_csv)"
      ],
      "metadata": {
        "id": "7e1djTWfIr8G"
      }
    },
    {
      "cell_type": "code",
      "execution_count": null,
      "metadata": {
        "colab": {
          "base_uri": "https://localhost:8080/",
          "height": 73
        },
        "id": "6J73fUFtIP2-",
        "outputId": "555c6b21-9371-4d05-ad60-1218653b0d75"
      },
      "outputs": [
        {
          "output_type": "display_data",
          "data": {
            "text/plain": [
              "<IPython.core.display.HTML object>"
            ],
            "text/html": [
              "\n",
              "     <input type=\"file\" id=\"files-76e9040b-d444-4838-be54-729b9e3723c5\" name=\"files[]\" multiple disabled\n",
              "        style=\"border:none\" />\n",
              "     <output id=\"result-76e9040b-d444-4838-be54-729b9e3723c5\">\n",
              "      Upload widget is only available when the cell has been executed in the\n",
              "      current browser session. Please rerun this cell to enable.\n",
              "      </output>\n",
              "      <script>// Copyright 2017 Google LLC\n",
              "//\n",
              "// Licensed under the Apache License, Version 2.0 (the \"License\");\n",
              "// you may not use this file except in compliance with the License.\n",
              "// You may obtain a copy of the License at\n",
              "//\n",
              "//      http://www.apache.org/licenses/LICENSE-2.0\n",
              "//\n",
              "// Unless required by applicable law or agreed to in writing, software\n",
              "// distributed under the License is distributed on an \"AS IS\" BASIS,\n",
              "// WITHOUT WARRANTIES OR CONDITIONS OF ANY KIND, either express or implied.\n",
              "// See the License for the specific language governing permissions and\n",
              "// limitations under the License.\n",
              "\n",
              "/**\n",
              " * @fileoverview Helpers for google.colab Python module.\n",
              " */\n",
              "(function(scope) {\n",
              "function span(text, styleAttributes = {}) {\n",
              "  const element = document.createElement('span');\n",
              "  element.textContent = text;\n",
              "  for (const key of Object.keys(styleAttributes)) {\n",
              "    element.style[key] = styleAttributes[key];\n",
              "  }\n",
              "  return element;\n",
              "}\n",
              "\n",
              "// Max number of bytes which will be uploaded at a time.\n",
              "const MAX_PAYLOAD_SIZE = 100 * 1024;\n",
              "\n",
              "function _uploadFiles(inputId, outputId) {\n",
              "  const steps = uploadFilesStep(inputId, outputId);\n",
              "  const outputElement = document.getElementById(outputId);\n",
              "  // Cache steps on the outputElement to make it available for the next call\n",
              "  // to uploadFilesContinue from Python.\n",
              "  outputElement.steps = steps;\n",
              "\n",
              "  return _uploadFilesContinue(outputId);\n",
              "}\n",
              "\n",
              "// This is roughly an async generator (not supported in the browser yet),\n",
              "// where there are multiple asynchronous steps and the Python side is going\n",
              "// to poll for completion of each step.\n",
              "// This uses a Promise to block the python side on completion of each step,\n",
              "// then passes the result of the previous step as the input to the next step.\n",
              "function _uploadFilesContinue(outputId) {\n",
              "  const outputElement = document.getElementById(outputId);\n",
              "  const steps = outputElement.steps;\n",
              "\n",
              "  const next = steps.next(outputElement.lastPromiseValue);\n",
              "  return Promise.resolve(next.value.promise).then((value) => {\n",
              "    // Cache the last promise value to make it available to the next\n",
              "    // step of the generator.\n",
              "    outputElement.lastPromiseValue = value;\n",
              "    return next.value.response;\n",
              "  });\n",
              "}\n",
              "\n",
              "/**\n",
              " * Generator function which is called between each async step of the upload\n",
              " * process.\n",
              " * @param {string} inputId Element ID of the input file picker element.\n",
              " * @param {string} outputId Element ID of the output display.\n",
              " * @return {!Iterable<!Object>} Iterable of next steps.\n",
              " */\n",
              "function* uploadFilesStep(inputId, outputId) {\n",
              "  const inputElement = document.getElementById(inputId);\n",
              "  inputElement.disabled = false;\n",
              "\n",
              "  const outputElement = document.getElementById(outputId);\n",
              "  outputElement.innerHTML = '';\n",
              "\n",
              "  const pickedPromise = new Promise((resolve) => {\n",
              "    inputElement.addEventListener('change', (e) => {\n",
              "      resolve(e.target.files);\n",
              "    });\n",
              "  });\n",
              "\n",
              "  const cancel = document.createElement('button');\n",
              "  inputElement.parentElement.appendChild(cancel);\n",
              "  cancel.textContent = 'Cancel upload';\n",
              "  const cancelPromise = new Promise((resolve) => {\n",
              "    cancel.onclick = () => {\n",
              "      resolve(null);\n",
              "    };\n",
              "  });\n",
              "\n",
              "  // Wait for the user to pick the files.\n",
              "  const files = yield {\n",
              "    promise: Promise.race([pickedPromise, cancelPromise]),\n",
              "    response: {\n",
              "      action: 'starting',\n",
              "    }\n",
              "  };\n",
              "\n",
              "  cancel.remove();\n",
              "\n",
              "  // Disable the input element since further picks are not allowed.\n",
              "  inputElement.disabled = true;\n",
              "\n",
              "  if (!files) {\n",
              "    return {\n",
              "      response: {\n",
              "        action: 'complete',\n",
              "      }\n",
              "    };\n",
              "  }\n",
              "\n",
              "  for (const file of files) {\n",
              "    const li = document.createElement('li');\n",
              "    li.append(span(file.name, {fontWeight: 'bold'}));\n",
              "    li.append(span(\n",
              "        `(${file.type || 'n/a'}) - ${file.size} bytes, ` +\n",
              "        `last modified: ${\n",
              "            file.lastModifiedDate ? file.lastModifiedDate.toLocaleDateString() :\n",
              "                                    'n/a'} - `));\n",
              "    const percent = span('0% done');\n",
              "    li.appendChild(percent);\n",
              "\n",
              "    outputElement.appendChild(li);\n",
              "\n",
              "    const fileDataPromise = new Promise((resolve) => {\n",
              "      const reader = new FileReader();\n",
              "      reader.onload = (e) => {\n",
              "        resolve(e.target.result);\n",
              "      };\n",
              "      reader.readAsArrayBuffer(file);\n",
              "    });\n",
              "    // Wait for the data to be ready.\n",
              "    let fileData = yield {\n",
              "      promise: fileDataPromise,\n",
              "      response: {\n",
              "        action: 'continue',\n",
              "      }\n",
              "    };\n",
              "\n",
              "    // Use a chunked sending to avoid message size limits. See b/62115660.\n",
              "    let position = 0;\n",
              "    do {\n",
              "      const length = Math.min(fileData.byteLength - position, MAX_PAYLOAD_SIZE);\n",
              "      const chunk = new Uint8Array(fileData, position, length);\n",
              "      position += length;\n",
              "\n",
              "      const base64 = btoa(String.fromCharCode.apply(null, chunk));\n",
              "      yield {\n",
              "        response: {\n",
              "          action: 'append',\n",
              "          file: file.name,\n",
              "          data: base64,\n",
              "        },\n",
              "      };\n",
              "\n",
              "      let percentDone = fileData.byteLength === 0 ?\n",
              "          100 :\n",
              "          Math.round((position / fileData.byteLength) * 100);\n",
              "      percent.textContent = `${percentDone}% done`;\n",
              "\n",
              "    } while (position < fileData.byteLength);\n",
              "  }\n",
              "\n",
              "  // All done.\n",
              "  yield {\n",
              "    response: {\n",
              "      action: 'complete',\n",
              "    }\n",
              "  };\n",
              "}\n",
              "\n",
              "scope.google = scope.google || {};\n",
              "scope.google.colab = scope.google.colab || {};\n",
              "scope.google.colab._files = {\n",
              "  _uploadFiles,\n",
              "  _uploadFilesContinue,\n",
              "};\n",
              "})(self);\n",
              "</script> "
            ]
          },
          "metadata": {}
        },
        {
          "output_type": "stream",
          "name": "stdout",
          "text": [
            "Saving bestsellers with categories.csv to bestsellers with categories.csv\n"
          ]
        }
      ],
      "source": [
        "import pandas as pd\n",
        "import numpy as np\n",
        "import matplotlib.pyplot as plt\n",
        "from google.colab import files\n",
        "uploaded = files.upload()"
      ]
    },
    {
      "cell_type": "code",
      "source": [
        "df = pd.read_csv('bestsellers with categories.csv')"
      ],
      "metadata": {
        "id": "g1sgqdu0Ixbv"
      },
      "execution_count": null,
      "outputs": []
    },
    {
      "cell_type": "markdown",
      "source": [
        "2. Виведіть перші 10 рядків (метод head)"
      ],
      "metadata": {
        "id": "-b1jnnYdJnFL"
      }
    },
    {
      "cell_type": "code",
      "source": [
        "print(df.head(10))"
      ],
      "metadata": {
        "colab": {
          "base_uri": "https://localhost:8080/"
        },
        "id": "1p6ChZSGJndm",
        "outputId": "9a2de671-25fd-4339-c714-9b0a3cb3a266"
      },
      "execution_count": null,
      "outputs": [
        {
          "output_type": "stream",
          "name": "stdout",
          "text": [
            "                                                Name  \\\n",
            "0                      10-Day Green Smoothie Cleanse   \n",
            "1                                  11/22/63: A Novel   \n",
            "2            12 Rules for Life: An Antidote to Chaos   \n",
            "3                             1984 (Signet Classics)   \n",
            "4  5,000 Awesome Facts (About Everything!) (Natio...   \n",
            "5      A Dance with Dragons (A Song of Ice and Fire)   \n",
            "6  A Game of Thrones / A Clash of Kings / A Storm...   \n",
            "7                     A Gentleman in Moscow: A Novel   \n",
            "8      A Higher Loyalty: Truth, Lies, and Leadership   \n",
            "9                          A Man Called Ove: A Novel   \n",
            "\n",
            "                     Author  User Rating  Reviews  Price  Year        Genre  \n",
            "0                  JJ Smith          4.7    17350      8  2016  Non Fiction  \n",
            "1              Stephen King          4.6     2052     22  2011      Fiction  \n",
            "2        Jordan B. Peterson          4.7    18979     15  2018  Non Fiction  \n",
            "3             George Orwell          4.7    21424      6  2017      Fiction  \n",
            "4  National Geographic Kids          4.8     7665     12  2019  Non Fiction  \n",
            "5       George R. R. Martin          4.4    12643     11  2011      Fiction  \n",
            "6       George R. R. Martin          4.7    19735     30  2014      Fiction  \n",
            "7               Amor Towles          4.7    19699     15  2017      Fiction  \n",
            "8               James Comey          4.7     5983      3  2018  Non Fiction  \n",
            "9           Fredrik Backman          4.6    23848      8  2016      Fiction  \n"
          ]
        }
      ]
    },
    {
      "cell_type": "markdown",
      "source": [
        "3. Виведіть розміри датасету (метод shape)\n",
        "\n",
        "Питання: Про скільки книг зберігає дані датасет?"
      ],
      "metadata": {
        "id": "e-WBJJhMJ8CH"
      }
    },
    {
      "cell_type": "code",
      "source": [
        "print(df.shape)\n",
        "\n",
        "number_of_books = df.shape[0]\n",
        "\n",
        "print(f\"Кількість книг у датасеті: {number_of_books}\")"
      ],
      "metadata": {
        "colab": {
          "base_uri": "https://localhost:8080/"
        },
        "id": "FeseEaxkJ8yB",
        "outputId": "a1af48a2-8ea5-4317-89a7-10d8cc99b46d"
      },
      "execution_count": null,
      "outputs": [
        {
          "output_type": "stream",
          "name": "stdout",
          "text": [
            "(550, 7)\n",
            "Кількість книг у датасеті: 550\n"
          ]
        }
      ]
    },
    {
      "cell_type": "markdown",
      "source": [
        "4. Змініть назви всіх колонок: назва з маленької букви, без пробілів через підкреслення"
      ],
      "metadata": {
        "id": "9i4g7s3jMp1k"
      }
    },
    {
      "cell_type": "code",
      "source": [
        "df.columns = df.columns.str.lower().str.replace(' ', '_')\n",
        "\n",
        "print(df.head())"
      ],
      "metadata": {
        "colab": {
          "base_uri": "https://localhost:8080/"
        },
        "id": "3JVEu15KMqGs",
        "outputId": "216b511e-046f-4cfb-b08d-593b583bd6e1"
      },
      "execution_count": null,
      "outputs": [
        {
          "output_type": "stream",
          "name": "stdout",
          "text": [
            "                                                name  \\\n",
            "0                      10-Day Green Smoothie Cleanse   \n",
            "1                                  11/22/63: A Novel   \n",
            "2            12 Rules for Life: An Antidote to Chaos   \n",
            "3                             1984 (Signet Classics)   \n",
            "4  5,000 Awesome Facts (About Everything!) (Natio...   \n",
            "\n",
            "                     author  user_rating  reviews  price  year        genre  \n",
            "0                  JJ Smith          4.7    17350      8  2016  Non Fiction  \n",
            "1              Stephen King          4.6     2052     22  2011      Fiction  \n",
            "2        Jordan B. Peterson          4.7    18979     15  2018  Non Fiction  \n",
            "3             George Orwell          4.7    21424      6  2017      Fiction  \n",
            "4  National Geographic Kids          4.8     7665     12  2019  Non Fiction  \n"
          ]
        }
      ]
    },
    {
      "cell_type": "markdown",
      "source": [
        "5. Вивести кількість пропусків у кожному стовпчику.\n",
        "\n",
        "Питання : Чи є в якихось змінних пропуски? (Так / ні)"
      ],
      "metadata": {
        "id": "uev6E1FVNzwI"
      }
    },
    {
      "cell_type": "code",
      "source": [
        "missing_values = df.isna().sum()\n",
        "\n",
        "if missing_values.any():\n",
        "    print(\"Так, є пропуски в деяких змінних.\")\n",
        "    print(\"Кількість пропусків у кожному стовпчику:\")\n",
        "    print(missing_values)\n",
        "else:\n",
        "    print(\"Ні, немає пропусків у жодній змінній.\")"
      ],
      "metadata": {
        "colab": {
          "base_uri": "https://localhost:8080/"
        },
        "id": "hR_2c9hjN0EJ",
        "outputId": "5092e01e-b098-47ab-b21b-dfad782aaf8a"
      },
      "execution_count": null,
      "outputs": [
        {
          "output_type": "stream",
          "name": "stdout",
          "text": [
            "Ні, немає пропусків у жодній змінній.\n"
          ]
        }
      ]
    },
    {
      "cell_type": "markdown",
      "source": [
        "6. За допомогою методу unique  перевірте. Які є унікальні жанри в стовпці genre  \n",
        "\n",
        "Питання : Які є унікальні жанри?"
      ],
      "metadata": {
        "id": "lLGOlJqROggZ"
      }
    },
    {
      "cell_type": "code",
      "source": [
        "unique_genres = df['genre'].unique()\n",
        "\n",
        "print(\"Унікальні жанри:\")\n",
        "for genre in unique_genres:\n",
        "    print(genre)"
      ],
      "metadata": {
        "colab": {
          "base_uri": "https://localhost:8080/"
        },
        "id": "v-gjp8ftOguL",
        "outputId": "4a6fdc84-735e-4c46-975b-8778e2759271"
      },
      "execution_count": null,
      "outputs": [
        {
          "output_type": "stream",
          "name": "stdout",
          "text": [
            "Унікальні жанри:\n",
            "Non Fiction\n",
            "Fiction\n"
          ]
        }
      ]
    },
    {
      "cell_type": "markdown",
      "source": [
        "7. Визначте максимальну, мінімальну, медіанну ціну за допомогою методів  max, min, mean, median\n",
        "\n",
        "Питання: Максимальна ціна?\n",
        "\n",
        "Питання: Мінімальна ціна?\n",
        "\n",
        "Питання: Середня ціна?\n",
        "\n",
        "Питання: Медіанна ціна?"
      ],
      "metadata": {
        "id": "uUoKIcY_OsZu"
      }
    },
    {
      "cell_type": "code",
      "source": [
        "max_price = df['price'].max()\n",
        "\n",
        "min_price = df['price'].min()\n",
        "\n",
        "mean_price = df['price'].mean()\n",
        "\n",
        "median_price = df['price'].median()\n",
        "\n",
        "print(f\"Максимальна ціна: {max_price}\")\n",
        "print(f\"Мінімальна ціна: {min_price}\")\n",
        "print(f\"Середня ціна: {mean_price}\")\n",
        "print(f\"Медіанна ціна: {median_price}\")"
      ],
      "metadata": {
        "colab": {
          "base_uri": "https://localhost:8080/"
        },
        "id": "jc9U79E8OskZ",
        "outputId": "b4520041-a23c-4865-9a4a-5a8ef28e0337"
      },
      "execution_count": null,
      "outputs": [
        {
          "output_type": "stream",
          "name": "stdout",
          "text": [
            "Максимальна ціна: 105\n",
            "Мінімальна ціна: 0\n",
            "Середня ціна: 13.1\n",
            "Медіанна ціна: 11.0\n"
          ]
        }
      ]
    },
    {
      "cell_type": "markdown",
      "source": [
        "8. Виконайте наступні завдання з пошуку і сортування даних\n",
        "\n",
        "Питання: Який рейтинг у датасеті найвищий?  \n",
        "\n",
        "Питання: Скільки книг мають такий рейтинг?  \n",
        "\n",
        "Питання: Яка книга має найбільше відгуків?  \n",
        "\n",
        "Питання: З тих книг, що потрапили до Топ-50 у 2010 році, яка книга найдорожча ?\n",
        "\n",
        "Питання : Скільки книг жанру Fiction потрапили до Топ-50 у 2012 році  \n",
        "\n",
        "Питання : Скільки книг з рейтингом 4.9 потрапило до рейтингу у 2010 та 2011 роках (використовуйте | або метод isin)?  "
      ],
      "metadata": {
        "id": "LbNPljUKO2A0"
      }
    },
    {
      "cell_type": "code",
      "source": [
        "max_rating = df['user_rating'].max()\n",
        "print(f\"Найвищий рейтинг у датасеті: {max_rating}\")\n",
        "\n",
        "count_highest_rating = (df['user_rating'] == max_rating).sum()\n",
        "print(f\"Кількість книг з найвищим рейтингом: {count_highest_rating}\")\n",
        "\n",
        "max_reviews_book = df[df['reviews'] == df['reviews'].max()]['name'].values[0]\n",
        "print(f\"Книга з найбільшою кількістю відгуків: {max_reviews_book}\")\n",
        "\n",
        "max_price_2010 = df[df['year'] == 2010]['price'].max()\n",
        "most_expensive_2010 = df[(df['year'] == 2010) & (df['price'] == max_price_2010)]['name'].values[0]\n",
        "print(f\"Найдорожча книга серед книг, що потрапили до Топ-50 у 2010 році: {most_expensive_2010}\")\n",
        "\n",
        "count_fiction_2012 = ((df['genre'] == 'Fiction') & (df['year'] == 2012)).sum()\n",
        "print(f\"Кількість книг жанру Fiction, які потрапили до Топ-50 у 2012 році: {count_fiction_2012}\")\n",
        "\n",
        "count_4_9_rating = ((df['user_rating'] == 4.9) & (df['year'].isin([2010, 2011]))).sum()\n",
        "print(f\"Кількість книг з рейтингом 4.9, які потрапили до Топ-50 у 2010 або 2011 роках: {count_4_9_rating}\")"
      ],
      "metadata": {
        "colab": {
          "base_uri": "https://localhost:8080/"
        },
        "id": "c3evZH0iO2PS",
        "outputId": "09810582-5bfe-4533-e788-5d5f1f78fdf2"
      },
      "execution_count": null,
      "outputs": [
        {
          "output_type": "stream",
          "name": "stdout",
          "text": [
            "Найвищий рейтинг у датасеті: 4.9\n",
            "Кількість книг з найвищим рейтингом: 52\n",
            "Книга з найбільшою кількістю відгуків: Where the Crawdads Sing\n",
            "Найдорожча книга серед книг, що потрапили до Топ-50 у 2010 році: Publication Manual of the American Psychological Association, 6th Edition\n",
            "Кількість книг жанру Fiction, які потрапили до Топ-50 у 2012 році: 21\n",
            "Кількість книг з рейтингом 4.9, які потрапили до Топ-50 у 2010 або 2011 роках: 1\n"
          ]
        }
      ]
    },
    {
      "cell_type": "markdown",
      "source": [
        "9. Вивести максимальну і  мінімальну ціну для жанру Fiction I NonFiction (за допомогою методів  groupby та agg, для підрахунку мінімальних та максимальних значень використовуйте max та min). Використовуйте тількі потрібні вам стовпці."
      ],
      "metadata": {
        "id": "RyLmENirPW9M"
      }
    },
    {
      "cell_type": "code",
      "source": [
        "subset_df = df[['genre', 'price']]\n",
        "\n",
        "result = subset_df.groupby('genre')['price'].agg(['max', 'min'])\n",
        "\n",
        "print(result)"
      ],
      "metadata": {
        "colab": {
          "base_uri": "https://localhost:8080/"
        },
        "id": "Qbu6BCHtPXUq",
        "outputId": "6d61025f-e6ce-4c67-ed4a-fe9b0b785acf"
      },
      "execution_count": null,
      "outputs": [
        {
          "output_type": "stream",
          "name": "stdout",
          "text": [
            "             max  min\n",
            "genre                \n",
            "Fiction       82    0\n",
            "Non Fiction  105    0\n"
          ]
        }
      ]
    }
  ]
}